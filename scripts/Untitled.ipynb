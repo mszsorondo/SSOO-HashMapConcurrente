{
 "cells": [
  {
   "cell_type": "code",
   "execution_count": 47,
   "id": "d513695c",
   "metadata": {},
   "outputs": [],
   "source": [
    "import pandas as pd\n",
    "import matplotlib.pyplot as plt\n",
    "\n",
    "f1 = open(\"./experimento_inestabilidad_1/results.txt\",\"r\")\n",
    "f6 = open(\"./experimento_inestabilidad_6/results.txt\",\"r\")\n",
    "f13 = open(\"./experimento_inestabilidad_13/results.txt\",\"r\")\n",
    "f20 = open(\"./experimento_inestabilidad_20/results.txt\",\"r\")\n",
    "f25 = open(\"./experimento_inestabilidad_25/results.txt\",\"r\")"
   ]
  },
  {
   "cell_type": "code",
   "execution_count": 48,
   "id": "088ab824",
   "metadata": {},
   "outputs": [],
   "source": [
    "l1 = [float(k[0:-2]) for k in list(f1)]\n",
    "l6 = [float(k[0:-2]) for k in list(f6)]\n",
    "l13 = [float(k[0:-2]) for k in list(f13)]\n",
    "l20 = [float(k[0:-2]) for k in list(f20)]\n",
    "l25 = [float(k[0:-2]) for k in list(f25)]\n"
   ]
  },
  {
   "cell_type": "code",
   "execution_count": 49,
   "id": "6f6ebb8d",
   "metadata": {},
   "outputs": [],
   "source": [
    "lall = [l1,l6,l13,l20,l25]"
   ]
  },
  {
   "cell_type": "code",
   "execution_count": 53,
   "id": "783d13ad",
   "metadata": {},
   "outputs": [],
   "source": [
    "res = []\n",
    "from statistics import mean\n",
    "for k in lall:\n",
    "    res.append(mean(k))"
   ]
  },
  {
   "cell_type": "code",
   "execution_count": 56,
   "id": "be3a488e",
   "metadata": {},
   "outputs": [
    {
     "data": {
      "text/plain": [
       "1     0.000262\n",
       "6     0.000294\n",
       "13    0.000288\n",
       "20    0.000241\n",
       "25    0.000220\n",
       "dtype: float64"
      ]
     },
     "execution_count": 56,
     "metadata": {},
     "output_type": "execute_result"
    }
   ],
   "source": [
    "pd.Series(res, index=[1,6,13,20,25])"
   ]
  },
  {
   "cell_type": "code",
   "execution_count": null,
   "id": "54b0c6df",
   "metadata": {},
   "outputs": [],
   "source": []
  }
 ],
 "metadata": {
  "kernelspec": {
   "display_name": "Python 3 (ipykernel)",
   "language": "python",
   "name": "python3"
  },
  "language_info": {
   "codemirror_mode": {
    "name": "ipython",
    "version": 3
   },
   "file_extension": ".py",
   "mimetype": "text/x-python",
   "name": "python",
   "nbconvert_exporter": "python",
   "pygments_lexer": "ipython3",
   "version": "3.8.10"
  }
 },
 "nbformat": 4,
 "nbformat_minor": 5
}
