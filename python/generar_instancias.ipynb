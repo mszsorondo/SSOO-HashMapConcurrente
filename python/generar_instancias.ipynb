{
 "cells": [
  {
   "cell_type": "code",
   "execution_count": 2,
   "source": [
    "import math, subprocess, time, random, os, shutil, sys\n",
    "import pandas as pd\n",
    "import numpy as np\n",
    "from IPython.display import display, clear_output\n",
    "import seaborn as sns\n",
    "import matplotlib.pyplot as plt\n",
    "from tqdm.notebook import tqdm\n",
    "import re"
   ],
   "outputs": [],
   "metadata": {}
  },
  {
   "cell_type": "markdown",
   "source": [
    "# Funciones necesarias"
   ],
   "metadata": {}
  },
  {
   "cell_type": "markdown",
   "source": [
    "Esta funcion toma el nombre del experimento(o carpeta), el nombre del archivo(o instancia) y la lista de palabras que queremos meter en ese archivo. Ademas, guarda en el indice de la carpeta el nombre de la instancia(el nombre del archivo sin el txt).\n",
    "#### Porque?\n",
    "Porque de esa manera podemos acceder a las instancias rapidamente sin tener que generarlas a cada rato al experimentar. Ademas al poner un indice en cada carpeta podemos acceder a la lista de archivos al toque roque."
   ],
   "metadata": {}
  },
  {
   "cell_type": "code",
   "execution_count": 3,
   "source": [
    "def save_instance(exp_name, instance_name, words):\n",
    "    \n",
    "#     #creamos el indice de no existir\n",
    "#     if not os.path.isfile(F\"instances/{exp_name}/index.csv\"):\n",
    "#         index = pd.DataFrame(rows, columns=columns)\n",
    "        \n",
    "    #creamos el archivo\n",
    "    with open(F\"instancias/{exp_name}/{instance_name}.txt\", \"w\") as f:\n",
    "        \n",
    "        for word in words: \n",
    "            print(word, file=f, end=\" \\n\")\n",
    "            "
   ],
   "outputs": [],
   "metadata": {}
  },
  {
   "cell_type": "markdown",
   "source": [
    "Esta funcion se fija si existe la carpeta en instancias.Si ya existe, la borra y crea una nueva. Sino, la crea."
   ],
   "metadata": {}
  },
  {
   "cell_type": "code",
   "execution_count": 4,
   "source": [
    "def recreate_folder(nombre):\n",
    "    if os.path.exists(F'instancias/{nombre}'):\n",
    "        shutil.rmtree(F\"instancias/{nombre}\") #borramos la carpeta\n",
    "        os.makedirs(F\"instancias/{nombre}\", exist_ok=True)\n",
    "    else:\n",
    "        os.makedirs(F\"instancias/{nombre}\", exist_ok=True)"
   ],
   "outputs": [],
   "metadata": {}
  },
  {
   "cell_type": "markdown",
   "source": [
    "# Corrida de instancia de ejemplo"
   ],
   "metadata": {}
  },
  {
   "cell_type": "code",
   "execution_count": 6,
   "source": [
    "#nombre del exp (y entonces de la folder)\n",
    "exp_name = \"ejemplo\"\n",
    "cant_files = 5\n",
    "recreate_folder(exp_name)#creamos su carpeta\n",
    "index = [] #creamos el indice vacio\n",
    "#creamos las instancias que queramos\n",
    "direcs = []\n",
    "for n in tqdm(range(0,cant_files), \"Generating instances\"): #este for crea cada archivo\n",
    "    #Ahora elegimos las caracteristicas de la corrida\n",
    "    #Por ejemplo, voy a aumentar la cantidad de palaras a medida que aumenta n.\n",
    "    \n",
    "    words_list = [] #esta es la lista de palabras que le damos a save instance, ademas sera nuestro indice\n",
    "    cant_palabras = n*5\n",
    "    for i in range(0,cant_palabras): #el *5 es para que llene un poco mas los archivos\n",
    "        \n",
    "        letra = chr(ord(\"a\")+(i % 26) )\n",
    "#         print(letra)\n",
    "        #esto es como el index del hashmap\n",
    "        letra = str(letra)      \n",
    "        words_list.append(letra)#agregamos la palabra\n",
    "                    \n",
    "    save_instance(exp_name, F\"{exp_name}_{n}\", words_list) #creamos el archivo con las palabras\n",
    "    \n",
    "    index.append([F\"{exp_name}_{n}\",cant_palabras])\n",
    "    direcs.append(F\"../python/instancias/{exp_name}/{exp_name}_{k}.txt\")\n",
    "save_instance(exp_name,\"indice\",direcs)\n",
    "pd.DataFrame(index, columns=[\"instancia\",\"cant_palabras\"]).to_csv(\"instancias/\"+exp_name+\"/indice.csv\", index=False, header=True)\n",
    "    \n",
    "    \n",
    "    \n"
   ],
   "outputs": [
    {
     "output_type": "display_data",
     "data": {
      "text/plain": [
       "Generating instances:   0%|          | 0/5 [00:00<?, ?it/s]"
      ],
      "application/vnd.jupyter.widget-view+json": {
       "version_major": 2,
       "version_minor": 0,
       "model_id": "265e524ff57643f3967d4b402f261463"
      }
     },
     "metadata": {}
    },
    {
     "output_type": "error",
     "ename": "NameError",
     "evalue": "name 'k' is not defined",
     "traceback": [
      "\u001b[0;31m---------------------------------------------------------------------------\u001b[0m",
      "\u001b[0;31mNameError\u001b[0m                                 Traceback (most recent call last)",
      "\u001b[0;32m/tmp/ipykernel_81851/4300675.py\u001b[0m in \u001b[0;36m<module>\u001b[0;34m\u001b[0m\n\u001b[1;32m     23\u001b[0m \u001b[0;34m\u001b[0m\u001b[0m\n\u001b[1;32m     24\u001b[0m     \u001b[0mindex\u001b[0m\u001b[0;34m.\u001b[0m\u001b[0mappend\u001b[0m\u001b[0;34m(\u001b[0m\u001b[0;34m[\u001b[0m\u001b[0;34mF\"{exp_name}_{n}\"\u001b[0m\u001b[0;34m,\u001b[0m\u001b[0mcant_palabras\u001b[0m\u001b[0;34m]\u001b[0m\u001b[0;34m)\u001b[0m\u001b[0;34m\u001b[0m\u001b[0;34m\u001b[0m\u001b[0m\n\u001b[0;32m---> 25\u001b[0;31m     \u001b[0mdirecs\u001b[0m\u001b[0;34m.\u001b[0m\u001b[0mappend\u001b[0m\u001b[0;34m(\u001b[0m\u001b[0;34mF\"../python/instancias/{exp_name}/{exp_name}_{k}.txt\"\u001b[0m\u001b[0;34m)\u001b[0m\u001b[0;34m\u001b[0m\u001b[0;34m\u001b[0m\u001b[0m\n\u001b[0m\u001b[1;32m     26\u001b[0m \u001b[0msave_instance\u001b[0m\u001b[0;34m(\u001b[0m\u001b[0mexp_name\u001b[0m\u001b[0;34m,\u001b[0m\u001b[0;34m\"indice\"\u001b[0m\u001b[0;34m,\u001b[0m\u001b[0mdirecs\u001b[0m\u001b[0;34m)\u001b[0m\u001b[0;34m\u001b[0m\u001b[0;34m\u001b[0m\u001b[0m\n\u001b[1;32m     27\u001b[0m \u001b[0mpd\u001b[0m\u001b[0;34m.\u001b[0m\u001b[0mDataFrame\u001b[0m\u001b[0;34m(\u001b[0m\u001b[0mindex\u001b[0m\u001b[0;34m,\u001b[0m \u001b[0mcolumns\u001b[0m\u001b[0;34m=\u001b[0m\u001b[0;34m[\u001b[0m\u001b[0;34m\"instancia\"\u001b[0m\u001b[0;34m,\u001b[0m\u001b[0;34m\"cant_palabras\"\u001b[0m\u001b[0;34m]\u001b[0m\u001b[0;34m)\u001b[0m\u001b[0;34m.\u001b[0m\u001b[0mto_csv\u001b[0m\u001b[0;34m(\u001b[0m\u001b[0;34m\"instancias/\"\u001b[0m\u001b[0;34m+\u001b[0m\u001b[0mexp_name\u001b[0m\u001b[0;34m+\u001b[0m\u001b[0;34m\"/indice.csv\"\u001b[0m\u001b[0;34m,\u001b[0m \u001b[0mindex\u001b[0m\u001b[0;34m=\u001b[0m\u001b[0;32mFalse\u001b[0m\u001b[0;34m,\u001b[0m \u001b[0mheader\u001b[0m\u001b[0;34m=\u001b[0m\u001b[0;32mTrue\u001b[0m\u001b[0;34m)\u001b[0m\u001b[0;34m\u001b[0m\u001b[0;34m\u001b[0m\u001b[0m\n",
      "\u001b[0;31mNameError\u001b[0m: name 'k' is not defined"
     ]
    }
   ],
   "metadata": {}
  },
  {
   "cell_type": "markdown",
   "source": [
    "# Experimento palabras distribuidas uniformemente"
   ],
   "metadata": {}
  },
  {
   "cell_type": "code",
   "execution_count": 6,
   "source": [
    "#nombre del exp (y entonces de la folder)\n",
    "exp_name = \"exp_unif\"\n",
    "cant_files = 20\n",
    "cant_words = 520 # (26*20)\n",
    "recreate_folder(exp_name)#creamos su carpeta\n",
    "index = [] #creamos el indice vacio\n",
    "#creamos las instancias que queramos\n",
    "direcs= []\n",
    "               \n",
    "for k in range(1,cant_files+1):\n",
    "    i = 0 \n",
    "    words_list = [] #esta es la lista de palabras que le damos a save instance, ademas sera nuestro indice\n",
    "    l = 0\n",
    "    while(i<cant_words):\n",
    "        letra = chr(ord(\"a\")+(l % 26) )         \n",
    "        for j in range(0,k):\n",
    "            if (i<cant_words):\n",
    "                letra += chr(ord(\"a\")+(i % 26))\n",
    "                letras = str(letra)      \n",
    "                words_list.append(letras)#agregamos la palabra  \n",
    "                i = i+1\n",
    "        l = l+1\n",
    "\n",
    "\n",
    "    save_instance(exp_name, F\"{exp_name}_{k}\", words_list) #creamos el archivo con las palabras\n",
    "    index.append([F\"{exp_name}_{k}\",cant_words])\n",
    "    direcs.append(F\"../python/instancias/{exp_name}/{exp_name}_{k}.txt\")\n",
    "save_instance(exp_name,\"indice\",direcs)\n",
    "pd.DataFrame(index, columns=[\"instancia\",\"cant_palabras\"]).to_csv(\"instancias/\"+exp_name+\"/indice.csv\", index=False, header=True)\n",
    "    \n",
    "    \n",
    "    "
   ],
   "outputs": [],
   "metadata": {}
  },
  {
   "cell_type": "markdown",
   "source": [
    "# Palabras distribuidas no unformemente"
   ],
   "metadata": {}
  },
  {
   "cell_type": "code",
   "execution_count": 30,
   "source": [
    "#nombre del exp (y entonces de la folder)\n",
    "exp_name = \"exp_no_unif\"\n",
    "cant_files = 20\n",
    "cant_rep = 260\n",
    "cant_words = 520 # (26*20)\n",
    "letra_rep = \"a\"\n",
    "\n",
    "recreate_folder(exp_name)#creamos su carpeta\n",
    "index = [] #creamos el indice vacio\n",
    "#creamos las instancias que queramos\n",
    "                \n",
    "               \n",
    "for k in range(1,cant_files+1):\n",
    "    i = 0\n",
    "    words_list = [] #esta es la lista de palabras que le damos a save instance, ademas sera nuestro indice\n",
    "    l = 0\n",
    "    while(i<cant_words):\n",
    "        if (i<cant_words-cant_rep):\n",
    "            letra = chr(ord(\"a\")+(l % 26) )   \n",
    "        else: \n",
    "            letra = letra_rep\n",
    "        for j in range(0,k):\n",
    "            if (i<cant_words):\n",
    "                letra += chr(ord(\"a\")+(i % 26))\n",
    "                letras = str(letra)      \n",
    "                words_list.append(letras)#agregamos la palabra  \n",
    "                i = i+1\n",
    "        l = l+1\n",
    "    \n",
    "\n",
    "    save_instance(exp_name, F\"{exp_name}_{k}\", words_list) #creamos el archivo con las palabras\n",
    "    index.append([F\"{exp_name}_{k}\",cant_words])\n",
    "    direcs.append(F\"../python/instancias/{exp_name}/{exp_name}_{k}.txt\")\n",
    "save_instance(exp_name,\"indice\",direcs)\n",
    "pd.DataFrame(index, columns=[\"instancia\",\"cant_palabras\"]).to_csv(\"instancias/\"+exp_name+\"/indice.csv\", index=False, header=True)\n",
    "    \n",
    "    "
   ],
   "outputs": [],
   "metadata": {}
  },
  {
   "cell_type": "code",
   "execution_count": null,
   "source": [],
   "outputs": [],
   "metadata": {}
  }
 ],
 "metadata": {
  "kernelspec": {
   "name": "python3",
   "display_name": "Python 3.8.10 64-bit"
  },
  "language_info": {
   "codemirror_mode": {
    "name": "ipython",
    "version": 3
   },
   "file_extension": ".py",
   "mimetype": "text/x-python",
   "name": "python",
   "nbconvert_exporter": "python",
   "pygments_lexer": "ipython3",
   "version": "3.8.10"
  },
  "interpreter": {
   "hash": "916dbcbb3f70747c44a77c7bcd40155683ae19c65e1c03b4aa3499c5328201f1"
  }
 },
 "nbformat": 4,
 "nbformat_minor": 5
}