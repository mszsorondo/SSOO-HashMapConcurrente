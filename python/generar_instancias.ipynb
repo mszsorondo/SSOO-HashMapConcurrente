{
 "cells": [
  {
   "cell_type": "code",
   "execution_count": 2,
   "id": "b5410086",
   "metadata": {},
   "outputs": [],
   "source": [
    "import math, subprocess, time, random, os, shutil, sys\n",
    "import pandas as pd\n",
    "import numpy as np\n",
    "from IPython.display import display, clear_output\n",
    "import seaborn as sns\n",
    "import matplotlib.pyplot as plt\n",
    "from tqdm.notebook import tqdm\n",
    "import re"
   ]
  },
  {
   "cell_type": "markdown",
   "id": "69588e0d",
   "metadata": {},
   "source": [
    "# Funciones necesarias"
   ]
  },
  {
   "cell_type": "markdown",
   "id": "2941994f",
   "metadata": {},
   "source": [
    "Esta funcion toma el nombre del experimento(o carpeta), el nombre del archivo(o instancia) y la lista de palabras que queremos meter en ese archivo. Ademas, guarda en el indice de la carpeta el nombre de la instancia(el nombre del archivo sin el txt).\n",
    "#### Porque?\n",
    "Porque de esa manera podemos acceder a las instancias rapidamente sin tener que generarlas a cada rato al experimentar. Ademas al poner un indice en cada carpeta podemos acceder a la lista de archivos al toque roque."
   ]
  },
  {
   "cell_type": "code",
   "execution_count": 3,
   "id": "6df093f4",
   "metadata": {},
   "outputs": [],
   "source": [
    "def save_instance(exp_name, instance_name, words):\n",
    "    \n",
    "#     #creamos el indice de no existir\n",
    "#     if not os.path.isfile(F\"instances/{exp_name}/index.csv\"):\n",
    "#         index = pd.DataFrame(rows, columns=columns)\n",
    "        \n",
    "    #creamos el archivo\n",
    "    with open(F\"instancias/{exp_name}/{instance_name}.txt\", \"w\") as f:\n",
    "        \n",
    "        for word in words: \n",
    "            print(word, file=f, end=\" \\n\")\n",
    "            "
   ]
  },
  {
   "cell_type": "markdown",
   "id": "8d6fd25c",
   "metadata": {},
   "source": [
    "Esta funcion se fija si existe la carpeta en instancias.Si ya existe, la borra y crea una nueva. Sino, la crea."
   ]
  },
  {
   "cell_type": "code",
   "execution_count": 5,
   "id": "20925e4a",
   "metadata": {},
   "outputs": [],
   "source": [
    "def recreate_folder(nombre):\n",
    "    if os.path.exists(F'instancias/{nombre}'):\n",
    "        shutil.rmtree(F\"instancias/{nombre}\") #borramos la carpeta\n",
    "        os.makedirs(F\"instancias/{nombre}\", exist_ok=True)\n",
    "    else:\n",
    "        os.makedirs(F\"instancias/{nombre}\", exist_ok=True)"
   ]
  },
  {
   "cell_type": "markdown",
   "id": "abaace4c",
   "metadata": {},
   "source": [
    "# Corrida de instancia de ejemplo"
   ]
  },
  {
   "cell_type": "code",
   "execution_count": 7,
   "id": "63b0c2a5",
   "metadata": {},
   "outputs": [
    {
     "data": {
      "application/vnd.jupyter.widget-view+json": {
       "model_id": "56adbef3784b4f6cae54e70067a5286a",
       "version_major": 2,
       "version_minor": 0
      },
      "text/plain": [
       "Generating instances:   0%|          | 0/5 [00:00<?, ?it/s]"
      ]
     },
     "metadata": {},
     "output_type": "display_data"
    },
    {
     "ename": "NameError",
     "evalue": "name 'cant_palabras' is not defined",
     "output_type": "error",
     "traceback": [
      "\u001b[0;31m---------------------------------------------------------------------------\u001b[0m",
      "\u001b[0;31mNameError\u001b[0m                                 Traceback (most recent call last)",
      "\u001b[0;32m/tmp/ipykernel_147731/903890251.py\u001b[0m in \u001b[0;36m<module>\u001b[0;34m\u001b[0m\n\u001b[1;32m     11\u001b[0m     \u001b[0mwords_list\u001b[0m \u001b[0;34m=\u001b[0m \u001b[0;34m[\u001b[0m\u001b[0;34m]\u001b[0m \u001b[0;31m#esta es la lista de palabras que le damos a save instance, ademas sera nuestro indice\u001b[0m\u001b[0;34m\u001b[0m\u001b[0;34m\u001b[0m\u001b[0m\n\u001b[1;32m     12\u001b[0m \u001b[0;31m#     cant_palabras = n*5\u001b[0m\u001b[0;34m\u001b[0m\u001b[0;34m\u001b[0m\u001b[0;34m\u001b[0m\u001b[0m\n\u001b[0;32m---> 13\u001b[0;31m     \u001b[0;32mfor\u001b[0m \u001b[0mi\u001b[0m \u001b[0;32min\u001b[0m \u001b[0mrange\u001b[0m\u001b[0;34m(\u001b[0m\u001b[0;36m0\u001b[0m\u001b[0;34m,\u001b[0m\u001b[0mcant_palabras\u001b[0m\u001b[0;34m)\u001b[0m\u001b[0;34m:\u001b[0m \u001b[0;31m#el *5 es para que llene un poco mas los archivos\u001b[0m\u001b[0;34m\u001b[0m\u001b[0;34m\u001b[0m\u001b[0m\n\u001b[0m\u001b[1;32m     14\u001b[0m \u001b[0;34m\u001b[0m\u001b[0m\n\u001b[1;32m     15\u001b[0m         \u001b[0mletra\u001b[0m \u001b[0;34m=\u001b[0m \u001b[0mchr\u001b[0m\u001b[0;34m(\u001b[0m\u001b[0mord\u001b[0m\u001b[0;34m(\u001b[0m\u001b[0;34m\"a\"\u001b[0m\u001b[0;34m)\u001b[0m\u001b[0;34m+\u001b[0m\u001b[0;34m(\u001b[0m\u001b[0mi\u001b[0m \u001b[0;34m%\u001b[0m \u001b[0;36m26\u001b[0m\u001b[0;34m)\u001b[0m \u001b[0;34m)\u001b[0m\u001b[0;34m\u001b[0m\u001b[0;34m\u001b[0m\u001b[0m\n",
      "\u001b[0;31mNameError\u001b[0m: name 'cant_palabras' is not defined"
     ]
    }
   ],
   "source": [
    "#nombre del exp (y entonces de la folder)\n",
    "exp_name = \"ejemplo\"\n",
    "cant_files = 5\n",
    "recreate_folder(exp_name)#creamos su carpeta\n",
    "index = [] #creamos el indice vacio\n",
    "#creamos las instancias que queramos\n",
    "for n in tqdm(range(0,cant_files), \"Generating instances\"): #este for crea cada archivo\n",
    "    #Ahora elegimos las caracteristicas de la corrida\n",
    "    #Por ejemplo, voy a aumentar la cantidad de palaras a medida que aumenta n.\n",
    "    \n",
    "    words_list = [] #esta es la lista de palabras que le damos a save instance, ademas sera nuestro indice\n",
    "    cant_palabras = n*5\n",
    "    for i in range(0,cant_palabras): #el *5 es para que llene un poco mas los archivos\n",
    "        \n",
    "        letra = chr(ord(\"a\")+(i % 26) )\n",
    "#         print(letra)\n",
    "        #esto es como el index del hashmap\n",
    "        letra = str(letra)      \n",
    "        words_list.append(letra)#agregamos la palabra\n",
    "                    \n",
    "    save_instance(exp_name, F\"{exp_name}_{n}\", words_list) #creamos el archivo con las palabras\n",
    "    \n",
    "    index.append([F\"{exp_name}_{n}\",cant_palabras])\n",
    "    direcs.append(F\"../python/instancias/{exp_name}/{exp_name}_{k}.txt\")\n",
    "save_instance(exp_name,\"indice\",direcs)\n",
    "pd.DataFrame(index, columns=[\"instancia\",\"cant_palabras\"]).to_csv(\"instancias/\"+exp_name+\"/indice.csv\", index=False, header=True)\n",
    "    \n",
    "    \n",
    "    \n"
   ]
  },
  {
   "cell_type": "markdown",
   "id": "94c18c46",
   "metadata": {},
   "source": [
    "# Experimento palabras distribuidas uniformemente"
   ]
  },
  {
   "cell_type": "code",
   "execution_count": 6,
   "id": "7ee18e95",
   "metadata": {},
   "outputs": [],
   "source": [
    "#nombre del exp (y entonces de la folder)\n",
    "exp_name = \"exp_unif\"\n",
    "cant_files = 20\n",
    "cant_words = 520 # (26*20)\n",
    "recreate_folder(exp_name)#creamos su carpeta\n",
    "index = [] #creamos el indice vacio\n",
    "#creamos las instancias que queramos\n",
    "direcs= []\n",
    "               \n",
    "for k in range(1,cant_files+1):\n",
    "    i = 0 \n",
    "    words_list = [] #esta es la lista de palabras que le damos a save instance, ademas sera nuestro indice\n",
    "    l = 0\n",
    "    while(i<cant_words):\n",
    "        letra = chr(ord(\"a\")+(l % 26) )         \n",
    "        for j in range(0,k):\n",
    "            if (i<cant_words):\n",
    "                letra += chr(ord(\"a\")+(i % 26))\n",
    "                letras = str(letra)      \n",
    "                words_list.append(letras)#agregamos la palabra  \n",
    "                i = i+1\n",
    "        l = l+1\n",
    "\n",
    "\n",
    "    save_instance(exp_name, F\"{exp_name}_{k}\", words_list) #creamos el archivo con las palabras\n",
    "    index.append([F\"{exp_name}_{k}\",cant_words])\n",
    "    direcs.append(F\"../python/instancias/{exp_name}/{exp_name}_{k}.txt\")\n",
    "save_instance(exp_name,\"indice\",direcs)\n",
    "pd.DataFrame(index, columns=[\"instancia\",\"cant_palabras\"]).to_csv(\"instancias/\"+exp_name+\"/indice.csv\", index=False, header=True)\n",
    "    \n",
    "    \n",
    "    "
   ]
  },
  {
   "cell_type": "markdown",
   "id": "0afd81e1",
   "metadata": {},
   "source": [
    "# Palabras distribuidas no unformemente"
   ]
  },
  {
   "cell_type": "code",
   "execution_count": 30,
   "id": "705bcebb",
   "metadata": {},
   "outputs": [],
   "source": [
    "#nombre del exp (y entonces de la folder)\n",
    "exp_name = \"exp_no_unif\"\n",
    "cant_files = 20\n",
    "cant_rep = 260\n",
    "cant_words = 520 # (26*20)\n",
    "letra_rep = \"a\"\n",
    "\n",
    "recreate_folder(exp_name)#creamos su carpeta\n",
    "index = [] #creamos el indice vacio\n",
    "#creamos las instancias que queramos\n",
    "                \n",
    "               \n",
    "for k in range(1,cant_files+1):\n",
    "    i = 0\n",
    "    words_list = [] #esta es la lista de palabras que le damos a save instance, ademas sera nuestro indice\n",
    "    l = 0\n",
    "    while(i<cant_words):\n",
    "        if (i<cant_words-cant_rep):\n",
    "            letra = chr(ord(\"a\")+(l % 26) )   \n",
    "        else: \n",
    "            letra = letra_rep\n",
    "        for j in range(0,k):\n",
    "            if (i<cant_words):\n",
    "                letra += chr(ord(\"a\")+(i % 26))\n",
    "                letras = str(letra)      \n",
    "                words_list.append(letras)#agregamos la palabra  \n",
    "                i = i+1\n",
    "        l = l+1\n",
    "    \n",
    "\n",
    "    save_instance(exp_name, F\"{exp_name}_{k}\", words_list) #creamos el archivo con las palabras\n",
    "    index.append([F\"{exp_name}_{k}\",cant_words])\n",
    "    direcs.append(F\"../python/instancias/{exp_name}/{exp_name}_{k}.txt\")\n",
    "save_instance(exp_name,\"indice\",direcs)\n",
    "pd.DataFrame(index, columns=[\"instancia\",\"cant_palabras\"]).to_csv(\"instancias/\"+exp_name+\"/indice.csv\", index=False, header=True)\n",
    "    \n",
    "    "
   ]
  },
  {
   "cell_type": "code",
   "execution_count": null,
   "id": "336a1013",
   "metadata": {},
   "outputs": [],
   "source": []
  }
 ],
 "metadata": {
  "kernelspec": {
   "display_name": "Python 3 (ipykernel)",
   "language": "python",
   "name": "python3"
  },
  "language_info": {
   "codemirror_mode": {
    "name": "ipython",
    "version": 3
   },
   "file_extension": ".py",
   "mimetype": "text/x-python",
   "name": "python",
   "nbconvert_exporter": "python",
   "pygments_lexer": "ipython3",
   "version": "3.8.10"
  }
 },
 "nbformat": 4,
 "nbformat_minor": 5
}
